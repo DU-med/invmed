{
 "cells": [
  {
   "cell_type": "code",
   "execution_count": 14,
   "id": "9b173bbf",
   "metadata": {},
   "outputs": [
    {
     "name": "stderr",
     "output_type": "stream",
     "text": [
      "estimating size factors\n",
      "\n",
      "estimating dispersions\n",
      "\n",
      "gene-wise dispersion estimates\n",
      "\n",
      "mean-dispersion relationship\n",
      "\n",
      "final dispersion estimates\n",
      "\n",
      "fitting model and testing\n",
      "\n"
     ]
    },
    {
     "data": {
      "text/html": [
       "15526"
      ],
      "text/latex": [
       "15526"
      ],
      "text/markdown": [
       "15526"
      ],
      "text/plain": [
       "[1] 15526"
      ]
     },
     "metadata": {},
     "output_type": "display_data"
    },
    {
     "data": {
      "text/html": [
       "14540"
      ],
      "text/latex": [
       "14540"
      ],
      "text/markdown": [
       "14540"
      ],
      "text/plain": [
       "[1] 14540"
      ]
     },
     "metadata": {},
     "output_type": "display_data"
    }
   ],
   "source": [
    "# Variable settings\n",
    "in_f <- \"gene_count_matrix.csv\"        # input readcount data\n",
    "out_f1 <- \"result.txt\"        # output file for the result\n",
    "out_f2 <- \"result.png\"        # output image file for M-A plot\n",
    "param_G1 <- 2        # sample number of group 1\n",
    "param_G2 <- 2        # sample number of group2 \n",
    "param_FDR <- 0.05        # false discovery rate (FDR) threshold\n",
    "param_fig <- c(400, 380)        # figure size of M-A plot\n",
    "\n",
    "# Loading necessary R package\n",
    "library(DESeq2)        # loading DESeq2 package\n",
    "\n",
    "# Loading  readc ount data\n",
    "data <- read.table(in_f, header=TRUE, row.names=1, sep=\",\", quote=\"\")\n",
    "\n",
    "# Preprocessing\n",
    "data.cl <- c(rep(1, param_G1), rep(2, param_G2))\n",
    "colData <- data.frame(condition=as.factor(data.cl))\n",
    "d <- DESeqDataSetFromMatrix(countData=data, colData=colData, design=~condition)\n",
    "\n",
    "# Defferentially expressed genes analysis (DESeq2)\n",
    "d <- DESeq(d)                          # DESeq2 excution\n",
    "tmp <- results(d)                      # assign the result \n",
    "p.value <- tmp$pvalue                  # assign the p-value\n",
    "p.value[is.na(p.value)] <- 1           # replace NA by 1\n",
    "q.value <- tmp$padj                    # assgin the adjusted p-value in q.value\n",
    "q.value[is.na(q.value)] <- 1           # replace NA by 1\n",
    "ranking <- rank(p.value)               # assign the ranking based on p-value\n",
    "log2.FC <- tmp$log2FoldChange        # assign the log2FC\n",
    "sum(q.value < param_FDR)               # the number of genes (q.value < param_FDR)\n",
    "sum(p.adjust(p.value, method=\"BH\") < param_FDR)        # the number of genes (q.value < param_FDR, BH-method)\n",
    "\n",
    "# saving the result into the output file\n",
    "tmp <- cbind(rownames(data), data, p.value, q.value, ranking, log2.FC)\n",
    "write.table(tmp, out_f1, sep=\"\\t\", append=F, quote=F, row.names=F) \n",
    "\n",
    "# saving MA-plot\n",
    "png(out_f2, pointsize=13, width=param_fig[1], height=param_fig[2])\n",
    "plotMA(d)"
   ]
  },
  {
   "cell_type": "code",
   "execution_count": null,
   "id": "7390c646",
   "metadata": {},
   "outputs": [],
   "source": []
  }
 ],
 "metadata": {
  "kernelspec": {
   "display_name": "R",
   "language": "R",
   "name": "ir"
  },
  "language_info": {
   "codemirror_mode": "r",
   "file_extension": ".r",
   "mimetype": "text/x-r-source",
   "name": "R",
   "pygments_lexer": "r",
   "version": "4.2.1"
  }
 },
 "nbformat": 4,
 "nbformat_minor": 5
}
